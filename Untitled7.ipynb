{
 "cells": [
  {
   "cell_type": "code",
   "execution_count": 1,
   "id": "e46f711e-9a05-4871-a4b6-b3d7606e1e5e",
   "metadata": {},
   "outputs": [
    {
     "name": "stderr",
     "output_type": "stream",
     "text": [
      "2025-05-20 09:07:02.453 \n",
      "  \u001b[33m\u001b[1mWarning:\u001b[0m to view this Streamlit app on a browser, run it with the following\n",
      "  command:\n",
      "\n",
      "    streamlit run C:\\ProgramData\\anaconda3\\Lib\\site-packages\\ipykernel_launcher.py [ARGUMENTS]\n"
     ]
    },
    {
     "data": {
      "text/plain": [
       "DeltaGenerator()"
      ]
     },
     "execution_count": 1,
     "metadata": {},
     "output_type": "execute_result"
    }
   ],
   "source": [
    "import streamlit as st\n",
    "import pandas as pd\n",
    "from sklearn.model_selection import train_test_split\n",
    "from sklearn.linear_model import LinearRegression\n",
    "\n",
    "# Load the data\n",
    "df = pd.read_csv(\"data.csv\")\n",
    "\n",
    "# Prepare the features and target\n",
    "x = df[['hoursstudied']]\n",
    "y = df['examscore']\n",
    "\n",
    "# Split the data\n",
    "x_train, x_test, y_train, y_test = train_test_split(x, y, test_size=0.2, random_state=42)\n",
    "\n",
    "# Train the model\n",
    "model = LinearRegression()\n",
    "model.fit(x_train, y_train)\n",
    "\n",
    "# Streamlit app UI\n",
    "st.title(\"📘 Exam Score Predictor\")\n",
    "st.write(\"Enter hours studied to predict the exam score.\")\n",
    "\n",
    "# Input from user\n",
    "hours = st.number_input(\"Hours studied:\", min_value=0.0, step=0.1)\n",
    "\n",
    "# Predict on button click\n",
    "if st.button(\"Predict Score\"):\n",
    "    predicted_score = model.predict([[hours]])[0]\n",
    "    st.success(f\"🎯 Predicted Score: {predicted_score:.2f}\")\n",
    "\n",
    "# Display the sample data\n",
    "st.write(\"### Sample Training Data\")\n",
    "st.dataframe(df)"
   ]
  },
  {
   "cell_type": "code",
   "execution_count": null,
   "id": "a262537c-224f-41ef-8931-905c0d5e7253",
   "metadata": {},
   "outputs": [],
   "source": []
  }
 ],
 "metadata": {
  "kernelspec": {
   "display_name": "Python 3 (ipykernel)",
   "language": "python",
   "name": "python3"
  },
  "language_info": {
   "codemirror_mode": {
    "name": "ipython",
    "version": 3
   },
   "file_extension": ".py",
   "mimetype": "text/x-python",
   "name": "python",
   "nbconvert_exporter": "python",
   "pygments_lexer": "ipython3",
   "version": "3.11.7"
  }
 },
 "nbformat": 4,
 "nbformat_minor": 5
}
